{
 "cells": [
  {
   "cell_type": "code",
   "execution_count": null,
   "id": "19c19903",
   "metadata": {},
   "outputs": [],
   "source": [
    "import tensorflow as tf\n",
    "import nltk\n",
    "import tensorflow\n",
    "import random\n",
    "import numpy as np\n",
    "import keras\n",
    "from tensorflow.keras import layers, models # type: ignore\n",
    "from tensorflow.keras.datasets import fashion_mnist # type: ignore\n",
    "#import matplotlib.pyplot as plt # type: ignore\n",
    "import sys\n",
    "print(sys.executable)\n",
    "%pip install matplotlib\n",
    "\n"
   ]
  },
  {
   "cell_type": "code",
   "execution_count": null,
   "id": "5aa2e9e7",
   "metadata": {},
   "outputs": [],
   "source": [
    "#load and process data\n",
    "from tensorflow.keras.datasets import fashion_mnist # type: ignore\n",
    "\n",
    "(X_train, y_train), (X_test, y_test) = fashion_mnist.load_data()\n",
    "print(\"Train shape:\", X_train.shape)\n",
    "print(\"Test shape:\", X_test.shape)\n",
    "\n",
    "# Reshape and normalize\n",
    "X_train = X_train.reshape(-1, 28, 28, 1) / 255.0\n",
    "X_test = X_test.reshape(-1, 28, 28, 1) / 255.0\n",
    "\n",
    "# Build CNN with 6 layers\n",
    "model = models.Sequential([\n",
    "    layers.Conv2D(32, (3, 3), activation='relu', input_shape=(28, 28, 1)),   # Layer 1\n",
    "    layers.MaxPooling2D((2, 2)),                                             # Layer 2\n",
    "    layers.Conv2D(64, (3, 3), activation='relu'),                            # Layer 3\n",
    "    layers.MaxPooling2D((2, 2)),                                             # Layer 4\n",
    "    layers.Flatten(),                                                       # Layer 5\n",
    "    layers.Dense(10, activation='softmax')                                  # Layer 6\n",
    "])\n",
    "\n",
    "# Compile\n",
    "model.compile(optimizer='adam', loss='sparse_categorical_crossentropy', metrics=['accuracy'])\n",
    "\n",
    "# Train\n",
    "model.fit(X_train, y_train, epochs=5, validation_split=0.1)\n",
    "\n",
    "# Evaluate\n",
    "test_loss, test_acc = model.evaluate(X_test, y_test)\n",
    "print(f\"Test accuracy: {test_acc:.2f}\")"
   ]
  },
  {
   "cell_type": "code",
   "execution_count": null,
   "id": "f305116a",
   "metadata": {},
   "outputs": [],
   "source": [
    "import numpy as np\n",
    "import matplotlib.pyplot as plt\n",
    "\n",
    "# Fashion MNIST class labels\n",
    "class_names = [\n",
    "    \"T-shirt/top\", \"Trouser\", \"Pullover\", \"Dress\", \"Coat\",\n",
    "    \"Sandal\", \"Shirt\", \"Sneaker\", \"Bag\", \"Ankle boot\"\n",
    "]\n",
    "\n",
    "# Pick 2 test images\n",
    "num_images = 2\n",
    "sample_images = X_test[:num_images]\n",
    "true_labels = y_test[:num_images]\n",
    "\n",
    "# Make predictions\n",
    "predictions = model.predict(sample_images)\n",
    "\n",
    "# Display predictions\n",
    "for i in range(num_images):\n",
    "    plt.imshow(sample_images[i].reshape(28, 28), cmap='Blues')\n",
    "    plt.title(f\"True: {class_names[true_labels[i]]} | Predicted: {class_names[np.argmax(predictions[i])]}\")\n",
    "    plt.axis('off')\n",
    "    plt.show()"
   ]
  }
 ],
 "metadata": {
  "kernelspec": {
   "display_name": "tf-env",
   "language": "python",
   "name": "python3"
  },
  "language_info": {
   "codemirror_mode": {
    "name": "ipython",
    "version": 3
   },
   "file_extension": ".py",
   "mimetype": "text/x-python",
   "name": "python",
   "nbconvert_exporter": "python",
   "pygments_lexer": "ipython3",
   "version": "3.10.0"
  }
 },
 "nbformat": 4,
 "nbformat_minor": 5
}
